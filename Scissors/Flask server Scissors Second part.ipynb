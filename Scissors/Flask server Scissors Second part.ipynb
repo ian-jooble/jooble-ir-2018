{
 "cells": [
  {
   "cell_type": "code",
   "execution_count": 4,
   "metadata": {
    "collapsed": true
   },
   "outputs": [],
   "source": [
    "from flask import Flask, request\n",
    "import json"
   ]
  },
  {
   "cell_type": "code",
   "execution_count": 26,
   "metadata": {},
   "outputs": [],
   "source": [
    "app = Flask(__name__)\n",
    "\n",
    "@app.route(\"/\")\n",
    "def hello():\n",
    "    return \"Hello World from Scissors!\"\n",
    "\n",
    "\n",
    "@app.route('/about')\n",
    "def about():\n",
    "    return 'The about page'\n",
    "        \n",
    "\n",
    "@app.route('/ranging', methods=[\"POST\"])\n",
    "def ranging():\n",
    "    \"\"\"\n",
    "    Returns:\n",
    "    List with dictionaries according to ranged documents ID as json file\n",
    "    \"\"\"\n",
    "    documents_list = request.json\n",
    "    \n",
    "    documents_id = [document[\"document_id\"] for document in documents_list]\n",
    "    metadata = [document[\"metadata\"] for document in documents_list]\n",
    "    \n",
    "    documents = [{\"document_id\": i} for i in documents_id]\n",
    "    # some ranging\n",
    "    \n",
    "    return json.dumps(documents)\n",
    "    \n",
    "    \n",
    "@app.route('/snippets', methods=[\"POST\"])\n",
    "def get_snippets():\n",
    "    \"\"\"\n",
    "    Returns:\n",
    "    \n",
    "    \"\"\"\n",
    "    documents_list = request.json\n",
    "    \n",
    "    documents_id = [document[\"documents_id\"] for document in documents_list]\n",
    "    snippets = [\"test snippet\"] * len(documents_id)\n",
    "    \n",
    "    documents = [{\"document_id\": i, \"snippet\": } for i in documents_id] \n",
    "    # some ranging\n",
    "    \n",
    "    return json.dumps(documents)\n",
    "\n",
    "\n",
    "@app.route('/return_page', methods=[\"POST\"])\n",
    "def return_page():\n",
    "    \"\"\"\n",
    "    Returns:\n",
    "    \n",
    "    \"\"\"\n",
    "    documents_data = request.json\n",
    "    \n",
    "    documents_id = [document[\"document_id\"] ]\n",
    "    snippets = documents_data[\"snippets\"]\n",
    "    # some ranging\n",
    "    \n",
    "    return \"html\"\n",
    "\n"
   ]
  },
  {
   "cell_type": "code",
   "execution_count": 27,
   "metadata": {
    "scrolled": true
   },
   "outputs": [
    {
     "name": "stderr",
     "output_type": "stream",
     "text": [
      " * Running on http://0.0.0.0:13502/ (Press CTRL+C to quit)\n",
      "127.0.0.1 - - [01/Nov/2018 18:52:42] \"POST /ranging HTTP/1.1\" 200 -\n",
      "127.0.0.1 - - [01/Nov/2018 18:56:43] \"POST /ranging HTTP/1.1\" 200 -\n",
      "127.0.0.1 - - [01/Nov/2018 18:57:01] \"POST /ranging HTTP/1.1\" 200 -\n"
     ]
    }
   ],
   "source": [
    "if __name__ == \"__main__\":\n",
    "    app.run(host='0.0.0.0', port=13502)"
   ]
  },
  {
   "cell_type": "code",
   "execution_count": null,
   "metadata": {
    "collapsed": true
   },
   "outputs": [],
   "source": []
  }
 ],
 "metadata": {
  "kernelspec": {
   "display_name": "Python 3",
   "language": "python",
   "name": "python3"
  },
  "language_info": {
   "codemirror_mode": {
    "name": "ipython",
    "version": 3
   },
   "file_extension": ".py",
   "mimetype": "text/x-python",
   "name": "python",
   "nbconvert_exporter": "python",
   "pygments_lexer": "ipython3",
   "version": "3.6.3"
  }
 },
 "nbformat": 4,
 "nbformat_minor": 2
}
