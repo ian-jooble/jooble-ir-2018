{
 "cells": [
  {
   "cell_type": "code",
   "execution_count": 8,
   "metadata": {},
   "outputs": [
    {
     "name": "stdout",
     "output_type": "stream",
     "text": [
      "200\n",
      "Hello World Scissors!\n"
     ]
    }
   ],
   "source": [
    "import requests\n",
    "\n",
    "r = requests.get('http://127.0.0.1:13501/')\n",
    "print(r.status_code)\n",
    "print(r.text)"
   ]
  },
  {
   "cell_type": "code",
   "execution_count": 9,
   "metadata": {
    "collapsed": true
   },
   "outputs": [],
   "source": [
    "import sqlite3"
   ]
  },
  {
   "cell_type": "markdown",
   "metadata": {},
   "source": [
    "## Getting Language"
   ]
  },
  {
   "cell_type": "code",
   "execution_count": 13,
   "metadata": {},
   "outputs": [
    {
     "name": "stdout",
     "output_type": "stream",
     "text": [
      "200\n",
      "{\"status\": \"ok\", \"got_data\": \"Hello world. My name is Alex\", \"language\": \"english\"}\n"
     ]
    }
   ],
   "source": [
    "r = requests.post('http://127.0.0.1:13501/det_lang', json={\"action\":\"detect_language\", \"text\":\"Hello world. My name is Alex\"})\n",
    "print(r.status_code)\n",
    "print(r.text)\n",
    "lang = r.json()[\"language\"]"
   ]
  },
  {
   "cell_type": "code",
   "execution_count": 14,
   "metadata": {
    "scrolled": true
   },
   "outputs": [
    {
     "name": "stdout",
     "output_type": "stream",
     "text": [
      "200\n",
      "['it', 'import', 'veri', 'pythonli', 'python', 'python', 'python', 'python', 'poorli', 'least', 'onc']\n"
     ]
    }
   ],
   "source": [
    "r = requests.post('http://127.0.0.1:13501/stemm', json={\"lang\":\"english\", \"text\":\"Hello world. My name is Alex\"})\n",
    "print(r.status_code)\n",
    "stemmed_text = r.json()[\"stemmed_text\"]\n",
    "print(stemmed_text)"
   ]
  },
  {
   "cell_type": "code",
   "execution_count": 20,
   "metadata": {},
   "outputs": [
    {
     "name": "stdout",
     "output_type": "stream",
     "text": [
      "200\n",
      "{\"idxs\": [2, 6, 4, 8, 6, 6, 6, 6, 6, 5, 3], \"tstemmed_textext\": [\"it\", \"import\", \"veri\", \"pythonli\", \"python\", \"python\", \"python\", \"python\", \"poorli\", \"least\", \"onc\"]}\n"
     ]
    }
   ],
   "source": [
    "r = requests.post('http://127.0.0.1:13501/rev_ind', json={\"stemmed_text\":stemmed_text})\n",
    "print(r.status_code)\n",
    "print(r.text)"
   ]
  },
  {
   "cell_type": "markdown",
   "metadata": {},
   "source": [
    "## Processing Text"
   ]
  },
  {
   "cell_type": "code",
   "execution_count": 7,
   "metadata": {},
   "outputs": [
    {
     "name": "stdout",
     "output_type": "stream",
     "text": [
      "[nltk_data] Downloading package punkt to /home/math/nltk_data...\n",
      "[nltk_data]   Package punkt is already up-to-date!\n",
      "['it', 'import', 'veri', 'pythonli', 'python', 'python', 'python', 'python', 'poorli', 'least', 'onc']\n"
     ]
    }
   ],
   "source": [
    "#Stemming\n",
    "from nltk.stem import PorterStemmer\n",
    "from nltk.tokenize import sent_tokenize, word_tokenize\n",
    "import nltk\n",
    "nltk.download('punkt') \n",
    "ps = PorterStemmer()\n",
    "new_text = \"It is important to by very pythonly while you are pythoning with python. All pythoners have pythoned poorly at least once.\"\n",
    "\n",
    "words = word_tokenize(new_text)\n",
    "tokenized_words = []\n",
    "for w in words:\n",
    "    tokenized_words.append(ps.stem(w))\n",
    "\n",
    "#Excluding Stop-words\n",
    "from nltk.corpus import stopwords\n",
    "filtered_words = [word.lower() for word in tokenized_words if word not in stopwords.words('english') and word.isalpha()]\n",
    "print(filtered_words)\n"
   ]
  },
  {
   "cell_type": "code",
   "execution_count": 113,
   "metadata": {
    "scrolled": true
   },
   "outputs": [
    {
     "name": "stdout",
     "output_type": "stream",
     "text": [
      "[nltk_data] Downloading package punkt to /home/math/nltk_data...\n",
      "[nltk_data]   Unzipping tokenizers/punkt.zip.\n"
     ]
    },
    {
     "data": {
      "text/plain": [
       "True"
      ]
     },
     "execution_count": 113,
     "metadata": {},
     "output_type": "execute_result"
    }
   ],
   "source": [
    "nltk.download('punkt') "
   ]
  }
 ],
 "metadata": {
  "kernelspec": {
   "display_name": "Python 3",
   "language": "python",
   "name": "python3"
  },
  "language_info": {
   "codemirror_mode": {
    "name": "ipython",
    "version": 3
   },
   "file_extension": ".py",
   "mimetype": "text/x-python",
   "name": "python",
   "nbconvert_exporter": "python",
   "pygments_lexer": "ipython3",
   "version": "3.6.3"
  }
 },
 "nbformat": 4,
 "nbformat_minor": 2
}
