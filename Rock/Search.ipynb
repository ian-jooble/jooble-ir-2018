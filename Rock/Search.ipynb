{
 "cells": [
  {
   "cell_type": "code",
   "execution_count": null,
   "metadata": {},
   "outputs": [
    {
     "name": "stderr",
     "output_type": "stream",
     "text": [
      " * Running on http://0.0.0.0:13565/ (Press CTRL+C to quit)\n",
      "[2018-11-01 18:58:00,552] ERROR in app: Exception on /search [POST]\n",
      "Traceback (most recent call last):\n",
      "  File \"/usr/local/anaconda/lib/python3.6/site-packages/flask/app.py\", line 1982, in wsgi_app\n",
      "    response = self.full_dispatch_request()\n",
      "  File \"/usr/local/anaconda/lib/python3.6/site-packages/flask/app.py\", line 1614, in full_dispatch_request\n",
      "    rv = self.handle_user_exception(e)\n",
      "  File \"/usr/local/anaconda/lib/python3.6/site-packages/flask/app.py\", line 1517, in handle_user_exception\n",
      "    reraise(exc_type, exc_value, tb)\n",
      "  File \"/usr/local/anaconda/lib/python3.6/site-packages/flask/_compat.py\", line 33, in reraise\n",
      "    raise value\n",
      "  File \"/usr/local/anaconda/lib/python3.6/site-packages/flask/app.py\", line 1612, in full_dispatch_request\n",
      "    rv = self.dispatch_request()\n",
      "  File \"/usr/local/anaconda/lib/python3.6/site-packages/flask/app.py\", line 1598, in dispatch_request\n",
      "    return self.view_functions[rule.endpoint](**req.view_args)\n",
      "  File \"<ipython-input-7-b77b7e7d8270>\", line 21, in search\n",
      "    response_reverceindex = requests.post('http://127.0.0.1:13538/reverceindex', json={'data' :  parsed_analyze['data']})\n",
      "KeyError: 'data'\n",
      "127.0.0.1 - - [01/Nov/2018 18:58:00] \"POST /search HTTP/1.1\" 500 -\n"
     ]
    },
    {
     "name": "stdout",
     "output_type": "stream",
     "text": [
      "<Response [200]>\n"
     ]
    }
   ],
   "source": [
    "from flask import Flask\n",
    "from flask import request\n",
    "import nltk.stem.porter as stemmer\n",
    "import json\n",
    "import requests\n",
    "\n",
    "app = Flask(__name__)\n",
    "\n",
    "@app.route(\"/\")\n",
    "def hello():\n",
    "    return \"Hello World!\"\n",
    "\n",
    "@app.route(\"/search\", methods=[\"POST\"])\n",
    "def search():\n",
    "    j = request.json\n",
    "    query = j['query']\n",
    "    \n",
    "    response_analyze = requests.post('http://127.0.0.1:13533/analyze', json={'data' : query})\n",
    "    print(response_analyze)\n",
    "    parsed_analyze = json.loads(response_analyze.text)\n",
    "    response_reverceindex = requests.post('http://127.0.0.1:13538/reverceindex', json={'data': parsed_analyze['data']})\n",
    "    parsed_reverceindex = json.loads(response_reverceindex.text)\n",
    "    \n",
    "    return json.dumps({\"status\":\"ok\", \"words\": parsed_reverceindex['data'], \"data\" : parsed_reverseindex['data']})\n",
    "    \n",
    "\n",
    "if __name__ == \"__main__\":\n",
    "    app.run(host='0.0.0.0', port=13565)"
   ]
  },
  {
   "cell_type": "code",
   "execution_count": null,
   "metadata": {
    "collapsed": true
   },
   "outputs": [],
   "source": []
  }
 ],
 "metadata": {
  "kernelspec": {
   "display_name": "Python 3",
   "language": "python",
   "name": "python3"
  },
  "language_info": {
   "codemirror_mode": {
    "name": "ipython",
    "version": 3
   },
   "file_extension": ".py",
   "mimetype": "text/x-python",
   "name": "python",
   "nbconvert_exporter": "python",
   "pygments_lexer": "ipython3",
   "version": "3.6.3"
  }
 },
 "nbformat": 4,
 "nbformat_minor": 2
}
