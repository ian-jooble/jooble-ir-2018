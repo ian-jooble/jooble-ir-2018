{
 "cells": [
  {
   "cell_type": "code",
   "execution_count": null,
   "metadata": {},
   "outputs": [
    {
     "name": "stderr",
     "output_type": "stream",
     "text": [
      " * Running on http://0.0.0.0:13536/ (Press CTRL+C to quit)\n",
      "127.0.0.1 - - [01/Nov/2018 18:07:02] \"POST /stopwords HTTP/1.1\" 200 -\n",
      "127.0.0.1 - - [01/Nov/2018 18:07:28] \"POST /stopwords HTTP/1.1\" 200 -\n"
     ]
    }
   ],
   "source": [
    "from flask import Flask\n",
    "from flask import request\n",
    "import nltk.stem.porter as stemmer\n",
    "import json\n",
    "import requests\n",
    "\n",
    "app = Flask(__name__)\n",
    "\n",
    "@app.route(\"/\")\n",
    "def hello():\n",
    "    return \"Hello World!\"\n",
    "\n",
    "@app.route(\"/stopwords\", methods=[\"POST\"])\n",
    "def stopwords():\n",
    "    j = request.json\n",
    "    data = j['data']\n",
    "    # code for stop words\n",
    "    without_stop_words = data[:-1]\n",
    "    \n",
    "    return json.dumps({\"status\":\"ok\", \"got_data\":data, \"data\": without_stop_words})\n",
    "    \n",
    "\n",
    "if __name__ == \"__main__\":\n",
    "    app.run(host='0.0.0.0', port=13536)"
   ]
  },
  {
   "cell_type": "code",
   "execution_count": null,
   "metadata": {
    "collapsed": true
   },
   "outputs": [],
   "source": []
  }
 ],
 "metadata": {
  "kernelspec": {
   "display_name": "Python 3",
   "language": "python",
   "name": "python3"
  },
  "language_info": {
   "codemirror_mode": {
    "name": "ipython",
    "version": 3
   },
   "file_extension": ".py",
   "mimetype": "text/x-python",
   "name": "python",
   "nbconvert_exporter": "python",
   "pygments_lexer": "ipython3",
   "version": "3.6.3"
  }
 },
 "nbformat": 4,
 "nbformat_minor": 2
}
