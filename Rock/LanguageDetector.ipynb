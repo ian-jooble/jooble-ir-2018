{
 "cells": [
  {
   "cell_type": "code",
   "execution_count": null,
   "metadata": {},
   "outputs": [
    {
     "name": "stderr",
     "output_type": "stream",
     "text": [
      " * Running on http://0.0.0.0:13534/ (Press CTRL+C to quit)\n",
      "127.0.0.1 - - [01/Nov/2018 18:03:16] \"POST /detector HTTP/1.1\" 200 -\n",
      "127.0.0.1 - - [01/Nov/2018 18:03:47] \"POST /detector HTTP/1.1\" 200 -\n",
      "127.0.0.1 - - [01/Nov/2018 18:04:37] \"POST /detector HTTP/1.1\" 200 -\n",
      "127.0.0.1 - - [01/Nov/2018 18:05:09] \"POST /detector HTTP/1.1\" 200 -\n",
      "127.0.0.1 - - [01/Nov/2018 18:05:55] \"POST /detector HTTP/1.1\" 200 -\n",
      "127.0.0.1 - - [01/Nov/2018 18:06:18] \"POST /detector HTTP/1.1\" 200 -\n",
      "127.0.0.1 - - [01/Nov/2018 18:06:41] \"POST /detector HTTP/1.1\" 200 -\n",
      "127.0.0.1 - - [01/Nov/2018 18:06:53] \"POST /detector HTTP/1.1\" 200 -\n",
      "127.0.0.1 - - [01/Nov/2018 18:07:02] \"POST /detector HTTP/1.1\" 200 -\n",
      "127.0.0.1 - - [01/Nov/2018 18:07:28] \"POST /detector HTTP/1.1\" 200 -\n",
      "127.0.0.1 - - [01/Nov/2018 18:23:57] \"POST /detector HTTP/1.1\" 200 -\n",
      "127.0.0.1 - - [01/Nov/2018 18:24:11] \"POST /detector HTTP/1.1\" 200 -\n",
      "127.0.0.1 - - [01/Nov/2018 18:24:24] \"POST /detector HTTP/1.1\" 200 -\n",
      "127.0.0.1 - - [01/Nov/2018 18:24:55] \"POST /detector HTTP/1.1\" 200 -\n",
      "127.0.0.1 - - [01/Nov/2018 18:25:23] \"POST /detector HTTP/1.1\" 200 -\n",
      "127.0.0.1 - - [01/Nov/2018 18:25:40] \"POST /detector HTTP/1.1\" 200 -\n",
      "127.0.0.1 - - [01/Nov/2018 18:25:51] \"POST /detector HTTP/1.1\" 200 -\n",
      "127.0.0.1 - - [01/Nov/2018 18:27:02] \"POST /detector HTTP/1.1\" 200 -\n",
      "127.0.0.1 - - [01/Nov/2018 18:27:54] \"POST /detector HTTP/1.1\" 200 -\n",
      "127.0.0.1 - - [01/Nov/2018 18:28:34] \"POST /detector HTTP/1.1\" 200 -\n",
      "127.0.0.1 - - [01/Nov/2018 18:28:45] \"POST /detector HTTP/1.1\" 200 -\n",
      "127.0.0.1 - - [01/Nov/2018 18:29:39] \"POST /detector HTTP/1.1\" 200 -\n",
      "127.0.0.1 - - [01/Nov/2018 18:30:12] \"POST /detector HTTP/1.1\" 200 -\n",
      "127.0.0.1 - - [01/Nov/2018 18:30:24] \"POST /detector HTTP/1.1\" 200 -\n",
      "127.0.0.1 - - [01/Nov/2018 18:30:38] \"POST /detector HTTP/1.1\" 200 -\n",
      "127.0.0.1 - - [01/Nov/2018 18:30:39] \"POST /detector HTTP/1.1\" 200 -\n",
      "127.0.0.1 - - [01/Nov/2018 18:30:55] \"POST /detector HTTP/1.1\" 200 -\n",
      "127.0.0.1 - - [01/Nov/2018 18:31:08] \"POST /detector HTTP/1.1\" 200 -\n",
      "127.0.0.1 - - [01/Nov/2018 18:55:08] \"POST /detector HTTP/1.1\" 200 -\n",
      "127.0.0.1 - - [01/Nov/2018 18:57:18] \"POST /detector HTTP/1.1\" 200 -\n",
      "127.0.0.1 - - [01/Nov/2018 18:57:29] \"POST /detector HTTP/1.1\" 200 -\n",
      "127.0.0.1 - - [01/Nov/2018 18:57:44] \"POST /detector HTTP/1.1\" 200 -\n",
      "127.0.0.1 - - [01/Nov/2018 18:58:00] \"POST /detector HTTP/1.1\" 200 -\n"
     ]
    }
   ],
   "source": [
    "app = Flask(__name__)\n",
    "\n",
    "@app.route(\"/\")\n",
    "def hello():\n",
    "    return \"Hello World!\"\n",
    " \n",
    "\n",
    "@app.route('/detector', methods =['POST'])\n",
    "def detector():\n",
    "    j = request.json\n",
    "    #method\n",
    "    leng = 'en'\n",
    "    return json.dumps({\"status\":\"ok\", \"got_data\": j[\"data\"], \"language\":leng})\n",
    "    \n",
    "\n",
    "if __name__ == \"__main__\":\n",
    "    app.run(host='0.0.0.0', port=13534)"
   ]
  },
  {
   "cell_type": "code",
   "execution_count": 1,
   "metadata": {
    "collapsed": true
   },
   "outputs": [],
   "source": [
    "from flask import Flask, request\n",
    "import json"
   ]
  },
  {
   "cell_type": "code",
   "execution_count": null,
   "metadata": {
    "collapsed": true
   },
   "outputs": [],
   "source": []
  }
 ],
 "metadata": {
  "kernelspec": {
   "display_name": "Python 3",
   "language": "python",
   "name": "python3"
  },
  "language_info": {
   "codemirror_mode": {
    "name": "ipython",
    "version": 3
   },
   "file_extension": ".py",
   "mimetype": "text/x-python",
   "name": "python",
   "nbconvert_exporter": "python",
   "pygments_lexer": "ipython3",
   "version": "3.6.3"
  }
 },
 "nbformat": 4,
 "nbformat_minor": 2
}
