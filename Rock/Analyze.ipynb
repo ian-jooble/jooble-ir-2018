{
 "cells": [
  {
   "cell_type": "code",
   "execution_count": null,
   "metadata": {},
   "outputs": [
    {
     "name": "stderr",
     "output_type": "stream",
     "text": [
      " * Running on http://0.0.0.0:13533/ (Press CTRL+C to quit)\n",
      "127.0.0.1 - - [01/Nov/2018 18:57:44] \"POST /analyze HTTP/1.1\" 200 -\n",
      "127.0.0.1 - - [01/Nov/2018 18:58:00] \"POST /analyze HTTP/1.1\" 200 -\n"
     ]
    }
   ],
   "source": [
    "from flask import Flask\n",
    "from flask import request\n",
    "import nltk.stem.porter as stemmer\n",
    "import json\n",
    "import requests\n",
    "\n",
    "app = Flask(__name__)\n",
    "\n",
    "@app.route(\"/\")\n",
    "def hello():\n",
    "    return \"Hello World!\"\n",
    "\n",
    "@app.route(\"/analyze\", methods=[\"POST\"])\n",
    "def analyze():\n",
    "    j = request.json\n",
    "    query = j['data']\n",
    "    words = query.split(' ')\n",
    "    response_stemmed = requests.post('http://127.0.0.1:13535/stemmer', json={'data' : words})\n",
    "    parsed_stemmed = json.loads(response_stemmed.text)\n",
    "    response_stopwords = requests.post('http://127.0.0.1:13536/stopwords', json={'data' : parsed_stemmed['data']})\n",
    "    parsed_stopwords = json.loads(response_stopwords.text)\n",
    "    return json.dumps({\"status\":\"ok\", \"words\": parsed_stopwords['data'], \"language\" : parsed_stemmed['language']})\n",
    "    \n",
    "\n",
    "if __name__ == \"__main__\":\n",
    "    app.run(host='0.0.0.0', port=13533)"
   ]
  },
  {
   "cell_type": "code",
   "execution_count": null,
   "metadata": {
    "collapsed": true
   },
   "outputs": [],
   "source": []
  }
 ],
 "metadata": {
  "kernelspec": {
   "display_name": "Python 3",
   "language": "python",
   "name": "python3"
  },
  "language_info": {
   "codemirror_mode": {
    "name": "ipython",
    "version": 3
   },
   "file_extension": ".py",
   "mimetype": "text/x-python",
   "name": "python",
   "nbconvert_exporter": "python",
   "pygments_lexer": "ipython3",
   "version": "3.6.3"
  }
 },
 "nbformat": 4,
 "nbformat_minor": 2
}
