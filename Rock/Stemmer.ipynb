{
 "cells": [
  {
   "cell_type": "code",
   "execution_count": null,
   "metadata": {},
   "outputs": [
    {
     "name": "stderr",
     "output_type": "stream",
     "text": [
      " * Running on http://0.0.0.0:13535/ (Press CTRL+C to quit)\n",
      "127.0.0.1 - - [01/Nov/2018 18:03:47] \"POST /stemmer HTTP/1.1\" 200 -\n",
      "127.0.0.1 - - [01/Nov/2018 18:03:47] \"POST /stopwords HTTP/1.1\" 404 -\n",
      "127.0.0.1 - - [01/Nov/2018 18:04:37] \"POST /stemmer HTTP/1.1\" 200 -\n",
      "127.0.0.1 - - [01/Nov/2018 18:04:37] \"POST /stopwords HTTP/1.1\" 404 -\n",
      "127.0.0.1 - - [01/Nov/2018 18:05:09] \"POST /stemmer HTTP/1.1\" 200 -\n",
      "127.0.0.1 - - [01/Nov/2018 18:05:09] \"POST /stopwords HTTP/1.1\" 404 -\n",
      "127.0.0.1 - - [01/Nov/2018 18:05:55] \"POST /stemmer HTTP/1.1\" 200 -\n",
      "127.0.0.1 - - [01/Nov/2018 18:06:18] \"POST /stemmer HTTP/1.1\" 200 -\n",
      "127.0.0.1 - - [01/Nov/2018 18:06:41] \"POST /stemmer HTTP/1.1\" 200 -\n",
      "127.0.0.1 - - [01/Nov/2018 18:06:53] \"POST /stemmer HTTP/1.1\" 200 -\n",
      "127.0.0.1 - - [01/Nov/2018 18:07:02] \"POST /stemmer HTTP/1.1\" 200 -\n",
      "127.0.0.1 - - [01/Nov/2018 18:07:28] \"POST /stemmer HTTP/1.1\" 200 -\n",
      "127.0.0.1 - - [01/Nov/2018 18:23:57] \"POST /stemmer HTTP/1.1\" 200 -\n",
      "127.0.0.1 - - [01/Nov/2018 18:24:11] \"POST /stemmer HTTP/1.1\" 200 -\n",
      "127.0.0.1 - - [01/Nov/2018 18:24:24] \"POST /stemmer HTTP/1.1\" 200 -\n",
      "127.0.0.1 - - [01/Nov/2018 18:24:55] \"POST /stemmer HTTP/1.1\" 200 -\n",
      "127.0.0.1 - - [01/Nov/2018 18:25:23] \"POST /stemmer HTTP/1.1\" 200 -\n",
      "127.0.0.1 - - [01/Nov/2018 18:25:40] \"POST /stemmer HTTP/1.1\" 200 -\n",
      "127.0.0.1 - - [01/Nov/2018 18:25:51] \"POST /stemmer HTTP/1.1\" 200 -\n",
      "127.0.0.1 - - [01/Nov/2018 18:27:02] \"POST /stemmer HTTP/1.1\" 200 -\n",
      "127.0.0.1 - - [01/Nov/2018 18:27:54] \"POST /stemmer HTTP/1.1\" 200 -\n",
      "127.0.0.1 - - [01/Nov/2018 18:28:34] \"POST /stemmer HTTP/1.1\" 200 -\n",
      "127.0.0.1 - - [01/Nov/2018 18:28:45] \"POST /stemmer HTTP/1.1\" 200 -\n",
      "127.0.0.1 - - [01/Nov/2018 18:29:39] \"POST /stemmer HTTP/1.1\" 200 -\n",
      "127.0.0.1 - - [01/Nov/2018 18:30:12] \"POST /stemmer HTTP/1.1\" 200 -\n",
      "127.0.0.1 - - [01/Nov/2018 18:30:24] \"POST /stemmer HTTP/1.1\" 200 -\n",
      "127.0.0.1 - - [01/Nov/2018 18:30:38] \"POST /stemmer HTTP/1.1\" 200 -\n",
      "127.0.0.1 - - [01/Nov/2018 18:30:39] \"POST /stemmer HTTP/1.1\" 200 -\n",
      "127.0.0.1 - - [01/Nov/2018 18:30:55] \"POST /stemmer HTTP/1.1\" 200 -\n",
      "127.0.0.1 - - [01/Nov/2018 18:31:08] \"POST /stemmer HTTP/1.1\" 200 -\n",
      "127.0.0.1 - - [01/Nov/2018 18:55:08] \"POST /stemmer HTTP/1.1\" 200 -\n",
      "127.0.0.1 - - [01/Nov/2018 18:57:18] \"POST /stemmer HTTP/1.1\" 200 -\n",
      "127.0.0.1 - - [01/Nov/2018 18:57:29] \"POST /stemmer HTTP/1.1\" 200 -\n",
      "127.0.0.1 - - [01/Nov/2018 18:57:44] \"POST /stemmer HTTP/1.1\" 200 -\n",
      "127.0.0.1 - - [01/Nov/2018 18:58:00] \"POST /stemmer HTTP/1.1\" 200 -\n"
     ]
    }
   ],
   "source": [
    "from flask import Flask\n",
    "from flask import request\n",
    "import nltk.stem.porter as stemmer\n",
    "import json\n",
    "import requests\n",
    "\n",
    "app = Flask(__name__)\n",
    "\n",
    "@app.route(\"/\")\n",
    "def hello():\n",
    "    return \"Hello World!\"\n",
    "\n",
    "@app.route(\"/stemmer\", methods=[\"POST\"])\n",
    "def test():\n",
    "    j = request.json\n",
    "    data = j['data']\n",
    "    language_detection = requests.post('http://127.0.0.1:13534/detector', json={'data' : data})\n",
    "    leng = json.loads(language_detection.text)['language']\n",
    "    #print(leng)\n",
    "    s = stemmer.PorterStemmer()\n",
    "    return json.dumps({\"status\":\"ok\", \"got_data\":j, \"data\": list(map(s.stem, data)), \"language\":leng})\n",
    "    \n",
    "\n",
    "if __name__ == \"__main__\":\n",
    "    app.run(host='0.0.0.0', port=13535)"
   ]
  },
  {
   "cell_type": "code",
   "execution_count": null,
   "metadata": {
    "collapsed": true
   },
   "outputs": [],
   "source": []
  }
 ],
 "metadata": {
  "kernelspec": {
   "display_name": "Python 3",
   "language": "python",
   "name": "python3"
  },
  "language_info": {
   "codemirror_mode": {
    "name": "ipython",
    "version": 3
   },
   "file_extension": ".py",
   "mimetype": "text/x-python",
   "name": "python",
   "nbconvert_exporter": "python",
   "pygments_lexer": "ipython3",
   "version": "3.6.3"
  }
 },
 "nbformat": 4,
 "nbformat_minor": 2
}
