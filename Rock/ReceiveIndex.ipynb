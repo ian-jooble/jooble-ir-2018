{
 "cells": [
  {
   "cell_type": "code",
   "execution_count": null,
   "metadata": {},
   "outputs": [
    {
     "name": "stderr",
     "output_type": "stream",
     "text": [
      " * Running on http://0.0.0.0:13538/ (Press CTRL+C to quit)\n",
      "127.0.0.1 - - [01/Nov/2018 18:55:08] \"POST /reverceindex HTTP/1.1\" 404 -\n"
     ]
    }
   ],
   "source": [
    "from flask import Flask\n",
    "from flask import request\n",
    "import nltk.stem.porter as stemmer\n",
    "import json\n",
    "import requests\n",
    "import numpy as np\n",
    "\n",
    "app = Flask(__name__)\n",
    "\n",
    "@app.route(\"/\")\n",
    "def hello():\n",
    "    return \"Hello World!\"\n",
    "\n",
    "@app.route(\"/reverceindex\", methods=[\"POST\"])\n",
    "def reverceindex():\n",
    "    j = request.json\n",
    "    words = j['data']\n",
    "    \n",
    "    ##### I need SQL\n",
    "    docs = []  \n",
    "    \n",
    "    for w in word:\n",
    "        dictionary = {'id': np.random.randint(100, size=1)[0], 'word_info':{'w1':1, 'w2':2}}\n",
    "        docs.append(dictionary)\n",
    "    \n",
    "    return json.dumps({\"status\":\"ok\", \"got_data\":j['data'], \"data\": docs})\n",
    "    \n",
    "\n",
    "if __name__ == \"__main__\":\n",
    "    app.run(host='0.0.0.0', port=13538)"
   ]
  },
  {
   "cell_type": "code",
   "execution_count": null,
   "metadata": {
    "collapsed": true
   },
   "outputs": [],
   "source": []
  },
  {
   "cell_type": "code",
   "execution_count": null,
   "metadata": {
    "collapsed": true
   },
   "outputs": [],
   "source": []
  }
 ],
 "metadata": {
  "kernelspec": {
   "display_name": "Python 3",
   "language": "python",
   "name": "python3"
  },
  "language_info": {
   "codemirror_mode": {
    "name": "ipython",
    "version": 3
   },
   "file_extension": ".py",
   "mimetype": "text/x-python",
   "name": "python",
   "nbconvert_exporter": "python",
   "pygments_lexer": "ipython3",
   "version": "3.6.3"
  }
 },
 "nbformat": 4,
 "nbformat_minor": 2
}
