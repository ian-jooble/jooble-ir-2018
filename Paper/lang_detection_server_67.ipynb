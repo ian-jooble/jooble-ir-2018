{
 "cells": [
  {
   "cell_type": "code",
   "execution_count": null,
   "metadata": {},
   "outputs": [
    {
     "name": "stderr",
     "output_type": "stream",
     "text": [
      " * Running on http://0.0.0.0:13567/ (Press CTRL+C to quit)\n"
     ]
    },
    {
     "name": "stdout",
     "output_type": "stream",
     "text": [
      "[nltk_data] Downloading package stopwords to /home/math/nltk_data...\n",
      "[nltk_data]   Package stopwords is already up-to-date!\n"
     ]
    },
    {
     "name": "stderr",
     "output_type": "stream",
     "text": [
      "127.0.0.1 - - [01/Nov/2018 17:09:59] \"POST /lang_detect HTTP/1.1\" 200 -\n"
     ]
    },
    {
     "name": "stdout",
     "output_type": "stream",
     "text": [
      "{\"text\": \"How are you doing?\"}\n"
     ]
    }
   ],
   "source": [
    "from flask import Flask\n",
    "from flask import request\n",
    "import json\n",
    "\n",
    "# -----nltk stuf----\n",
    "import nltk\n",
    "from nltk import wordpunct_tokenize\n",
    "from nltk.corpus import stopwords\n",
    "nltk.download('stopwords')\n",
    "\n",
    "app = Flask(__name__)\n",
    "\n",
    "@app.route(\"/\")\n",
    "def hello():\n",
    "    return \"Hello World!\"\n",
    "\n",
    "\n",
    "@app.route(\"/lang_detect\", methods=['GET', 'POST'])\n",
    "def lang_detect():\n",
    "    if request.method=='POST':\n",
    "        data = request.json\n",
    "        print(json.dumps(data))\n",
    "        text = data[\"text\"]\n",
    "        wordpunct_tokenize(text)\n",
    "        languages_ratios = {}\n",
    "        tokens = wordpunct_tokenize(text)\n",
    "        words = [word.lower() for word in tokens]\n",
    "        for language in stopwords.fileids():\n",
    "            stopwords_set = set(stopwords.words(language))\n",
    "            words_set = set(words)\n",
    "            common_elements = words_set.intersection(stopwords_set)\n",
    "            languages_ratios[language] = len(common_elements) # language \"score\"\n",
    "        most_rated_language = max(languages_ratios, key=languages_ratios.get)\n",
    "\n",
    "        return json.dumps({'status':'ok', 'lang': most_rated_language})\n",
    "    else:\n",
    "        return \"give me some text by post json {text: 'your text here'}\"\n",
    "    \n",
    "\n",
    "if __name__ == \"__main__\":\n",
    "    app.run(host='0.0.0.0', port=13567)"
   ]
  },
  {
   "cell_type": "code",
   "execution_count": null,
   "metadata": {
    "collapsed": true
   },
   "outputs": [],
   "source": []
  }
 ],
 "metadata": {
  "kernelspec": {
   "display_name": "Python 3",
   "language": "python",
   "name": "python3"
  },
  "language_info": {
   "codemirror_mode": {
    "name": "ipython",
    "version": 3
   },
   "file_extension": ".py",
   "mimetype": "text/x-python",
   "name": "python",
   "nbconvert_exporter": "python",
   "pygments_lexer": "ipython3",
   "version": "3.6.3"
  }
 },
 "nbformat": 4,
 "nbformat_minor": 2
}
